{
 "cells": [
  {
   "cell_type": "code",
   "execution_count": null,
   "id": "5c7cd8bf",
   "metadata": {},
   "outputs": [],
   "source": [
    "#Collection of data from Kaggle\n",
    "import kaggle\n",
    "import zipfile\n",
    "import pandas as pd\n",
    "import numpy as np\n",
    "from datetime import datetime\n",
    "from dateutil.relativedelta import relativedelta\n",
    "import pytz"
   ]
  },
  {
   "cell_type": "code",
   "execution_count": 2,
   "id": "55a08e60",
   "metadata": {},
   "outputs": [
    {
     "name": "stdout",
     "output_type": "stream",
     "text": [
      "Dataset URL: https://www.kaggle.com/datasets/aryansingh0909/nyt-articles-21m-2000-present\n",
      "License(s): CC0-1.0\n"
     ]
    }
   ],
   "source": [
    "# Data source - Collected from Kaggle Dataset\n",
    "# https://www.kaggle.com/datasets/aryansingh0909/nyt-articles-21m-2000-present\n",
    "!kaggle datasets download -d aryansingh0909/nyt-articles-21m-2000-present"
   ]
  },
  {
   "cell_type": "code",
   "execution_count": 3,
   "id": "587f8f29",
   "metadata": {},
   "outputs": [],
   "source": [
    "# Unzip the downloaded file\n",
    "with zipfile.ZipFile('nyt-articles-21m-2000-present.zip', 'r') as zip_ref:\n",
    "    zip_ref.extractall()"
   ]
  },
  {
   "cell_type": "code",
   "execution_count": 4,
   "id": "9a58923d",
   "metadata": {},
   "outputs": [
    {
     "name": "stderr",
     "output_type": "stream",
     "text": [
      "C:\\Users\\Abilash\\AppData\\Local\\Temp\\ipykernel_2096\\1814246835.py:2: DtypeWarning: Columns (5) have mixed types. Specify dtype option on import or set low_memory=False.\n",
      "  data = pd.read_csv('nyt-metadata.csv')\n"
     ]
    },
    {
     "name": "stdout",
     "output_type": "stream",
     "text": [
      "<class 'pandas.core.frame.DataFrame'>\n",
      "RangeIndex: 2191681 entries, 0 to 2191680\n",
      "Data columns (total 20 columns):\n",
      " #   Column            Dtype  \n",
      "---  ------            -----  \n",
      " 0   abstract          object \n",
      " 1   web_url           object \n",
      " 2   snippet           object \n",
      " 3   lead_paragraph    object \n",
      " 4   print_section     object \n",
      " 5   print_page        object \n",
      " 6   source            object \n",
      " 7   multimedia        object \n",
      " 8   headline          object \n",
      " 9   keywords          object \n",
      " 10  pub_date          object \n",
      " 11  document_type     object \n",
      " 12  news_desk         object \n",
      " 13  section_name      object \n",
      " 14  byline            object \n",
      " 15  type_of_material  object \n",
      " 16  _id               object \n",
      " 17  word_count        float64\n",
      " 18  uri               object \n",
      " 19  subsection_name   object \n",
      "dtypes: float64(1), object(19)\n",
      "memory usage: 334.4+ MB\n",
      "None\n"
     ]
    }
   ],
   "source": [
    "#Read CSV file using pandas library\n",
    "data = pd.read_csv('nyt-metadata.csv')\n",
    "print(data.info())"
   ]
  },
  {
   "cell_type": "code",
   "execution_count": 16,
   "id": "caffcc86",
   "metadata": {},
   "outputs": [],
   "source": [
    "# Copy the data in different variable for future reference\n",
    "df = pd.DataFrame(data)"
   ]
  },
  {
   "cell_type": "code",
   "execution_count": 17,
   "id": "74385634",
   "metadata": {},
   "outputs": [
    {
     "data": {
      "text/html": [
       "<div>\n",
       "<style scoped>\n",
       "    .dataframe tbody tr th:only-of-type {\n",
       "        vertical-align: middle;\n",
       "    }\n",
       "\n",
       "    .dataframe tbody tr th {\n",
       "        vertical-align: top;\n",
       "    }\n",
       "\n",
       "    .dataframe thead th {\n",
       "        text-align: right;\n",
       "    }\n",
       "</style>\n",
       "<table border=\"1\" class=\"dataframe\">\n",
       "  <thead>\n",
       "    <tr style=\"text-align: right;\">\n",
       "      <th></th>\n",
       "      <th>abstract</th>\n",
       "      <th>web_url</th>\n",
       "      <th>snippet</th>\n",
       "      <th>lead_paragraph</th>\n",
       "      <th>print_section</th>\n",
       "      <th>print_page</th>\n",
       "      <th>source</th>\n",
       "      <th>multimedia</th>\n",
       "      <th>headline</th>\n",
       "      <th>keywords</th>\n",
       "      <th>pub_date</th>\n",
       "      <th>document_type</th>\n",
       "      <th>news_desk</th>\n",
       "      <th>section_name</th>\n",
       "      <th>byline</th>\n",
       "      <th>type_of_material</th>\n",
       "      <th>_id</th>\n",
       "      <th>word_count</th>\n",
       "      <th>uri</th>\n",
       "      <th>subsection_name</th>\n",
       "    </tr>\n",
       "  </thead>\n",
       "  <tbody>\n",
       "    <tr>\n",
       "      <th>0</th>\n",
       "      <td>Article on upcoming New York Giants-Dallas Cow...</td>\n",
       "      <td>https://www.nytimes.com/2000/01/01/sports/pro-...</td>\n",
       "      <td>Article on upcoming New York Giants-Dallas Cow...</td>\n",
       "      <td>Waiting in the visiting locker room at Texas S...</td>\n",
       "      <td>D</td>\n",
       "      <td>2.0</td>\n",
       "      <td>The New York Times</td>\n",
       "      <td>[]</td>\n",
       "      <td>{'main': 'Playoffs or No, Dallas Provides The ...</td>\n",
       "      <td>[{'name': 'organizations', 'value': 'New York ...</td>\n",
       "      <td>2000-01-01 05:00:00+00:00</td>\n",
       "      <td>article</td>\n",
       "      <td>Sports Desk</td>\n",
       "      <td>Sports</td>\n",
       "      <td>{'original': 'By Bill Pennington', 'person': [...</td>\n",
       "      <td>News</td>\n",
       "      <td>nyt://article/01111a48-3502-5021-8096-bc929379...</td>\n",
       "      <td>819.0</td>\n",
       "      <td>nyt://article/01111a48-3502-5021-8096-bc929379...</td>\n",
       "      <td>NaN</td>\n",
       "    </tr>\n",
       "    <tr>\n",
       "      <th>1</th>\n",
       "      <td>Jeanne C Pond letter expresses hope that spiri...</td>\n",
       "      <td>https://www.nytimes.com/2000/01/01/opinion/l-o...</td>\n",
       "      <td>Jeanne C Pond letter expresses hope that spiri...</td>\n",
       "      <td>To the Editor:</td>\n",
       "      <td>A</td>\n",
       "      <td>30.0</td>\n",
       "      <td>The New York Times</td>\n",
       "      <td>[]</td>\n",
       "      <td>{'main': 'On This First Day, a Fanfare for the...</td>\n",
       "      <td>[{'name': 'persons', 'value': 'Pond, Jeanne C'...</td>\n",
       "      <td>2000-01-01 05:00:00+00:00</td>\n",
       "      <td>article</td>\n",
       "      <td>Editorial Desk</td>\n",
       "      <td>Opinion</td>\n",
       "      <td>{'original': '', 'person': [], 'organization':...</td>\n",
       "      <td>Letter</td>\n",
       "      <td>nyt://article/02328edc-dad1-5eb0-900e-917162e4...</td>\n",
       "      <td>122.0</td>\n",
       "      <td>nyt://article/02328edc-dad1-5eb0-900e-917162e4...</td>\n",
       "      <td>NaN</td>\n",
       "    </tr>\n",
       "    <tr>\n",
       "      <th>2</th>\n",
       "      <td>Many experts on Y2K computer problem report th...</td>\n",
       "      <td>https://www.nytimes.com/2000/01/01/us/1-1-00-t...</td>\n",
       "      <td>Many experts on Y2K computer problem report th...</td>\n",
       "      <td>As the world slid nervously yesterday through ...</td>\n",
       "      <td>A</td>\n",
       "      <td>10.0</td>\n",
       "      <td>The New York Times</td>\n",
       "      <td>[]</td>\n",
       "      <td>{'main': \"Internet's Cheering Squad Nervously ...</td>\n",
       "      <td>[{'name': 'subject', 'value': 'Electronic Mail...</td>\n",
       "      <td>2000-01-01 05:00:00+00:00</td>\n",
       "      <td>article</td>\n",
       "      <td>National Desk</td>\n",
       "      <td>U.S.</td>\n",
       "      <td>{'original': 'By Barnaby J. Feder', 'person': ...</td>\n",
       "      <td>News</td>\n",
       "      <td>nyt://article/02a8f89b-153f-5b84-983c-e328de5b...</td>\n",
       "      <td>761.0</td>\n",
       "      <td>nyt://article/02a8f89b-153f-5b84-983c-e328de5b...</td>\n",
       "      <td>NaN</td>\n",
       "    </tr>\n",
       "    <tr>\n",
       "      <th>3</th>\n",
       "      <td>WILL the forces of globalism continue to push ...</td>\n",
       "      <td>https://www.nytimes.com/2000/01/01/news/vision...</td>\n",
       "      <td>NaN</td>\n",
       "      <td>WILL the forces of globalism continue to push ...</td>\n",
       "      <td>E</td>\n",
       "      <td>4.0</td>\n",
       "      <td>The New York Times</td>\n",
       "      <td>[]</td>\n",
       "      <td>{'main': 'Economic Thinking Finds a Free Marke...</td>\n",
       "      <td>[]</td>\n",
       "      <td>2000-01-01 05:00:00+00:00</td>\n",
       "      <td>article</td>\n",
       "      <td>The Millennium</td>\n",
       "      <td>Archives</td>\n",
       "      <td>{'original': 'By Floyd Norris', 'person': [{'f...</td>\n",
       "      <td>News</td>\n",
       "      <td>nyt://article/0634d837-97b8-59b5-aa17-f90d1a89...</td>\n",
       "      <td>916.0</td>\n",
       "      <td>nyt://article/0634d837-97b8-59b5-aa17-f90d1a89...</td>\n",
       "      <td>NaN</td>\n",
       "    </tr>\n",
       "    <tr>\n",
       "      <th>4</th>\n",
       "      <td>SPECIAL TODAY  The Millennium  Envisioning th...</td>\n",
       "      <td>https://www.nytimes.com/2000/01/01/nyregion/in...</td>\n",
       "      <td>NaN</td>\n",
       "      <td>SPECIAL TODAY</td>\n",
       "      <td>A</td>\n",
       "      <td>1.0</td>\n",
       "      <td>The New York Times</td>\n",
       "      <td>[]</td>\n",
       "      <td>{'main': 'INSIDE', 'kicker': None, 'content_ki...</td>\n",
       "      <td>[]</td>\n",
       "      <td>2000-01-01 05:00:00+00:00</td>\n",
       "      <td>article</td>\n",
       "      <td>Metropolitan Desk</td>\n",
       "      <td>New York</td>\n",
       "      <td>{'original': '', 'person': [], 'organization':...</td>\n",
       "      <td>Summary</td>\n",
       "      <td>nyt://article/0654cc64-c37f-594d-9290-1ce578cd...</td>\n",
       "      <td>102.0</td>\n",
       "      <td>nyt://article/0654cc64-c37f-594d-9290-1ce578cd...</td>\n",
       "      <td>NaN</td>\n",
       "    </tr>\n",
       "  </tbody>\n",
       "</table>\n",
       "</div>"
      ],
      "text/plain": [
       "                                            abstract  \\\n",
       "0  Article on upcoming New York Giants-Dallas Cow...   \n",
       "1  Jeanne C Pond letter expresses hope that spiri...   \n",
       "2  Many experts on Y2K computer problem report th...   \n",
       "3  WILL the forces of globalism continue to push ...   \n",
       "4   SPECIAL TODAY  The Millennium  Envisioning th...   \n",
       "\n",
       "                                             web_url  \\\n",
       "0  https://www.nytimes.com/2000/01/01/sports/pro-...   \n",
       "1  https://www.nytimes.com/2000/01/01/opinion/l-o...   \n",
       "2  https://www.nytimes.com/2000/01/01/us/1-1-00-t...   \n",
       "3  https://www.nytimes.com/2000/01/01/news/vision...   \n",
       "4  https://www.nytimes.com/2000/01/01/nyregion/in...   \n",
       "\n",
       "                                             snippet  \\\n",
       "0  Article on upcoming New York Giants-Dallas Cow...   \n",
       "1  Jeanne C Pond letter expresses hope that spiri...   \n",
       "2  Many experts on Y2K computer problem report th...   \n",
       "3                                                NaN   \n",
       "4                                                NaN   \n",
       "\n",
       "                                      lead_paragraph print_section print_page  \\\n",
       "0  Waiting in the visiting locker room at Texas S...             D        2.0   \n",
       "1                                     To the Editor:             A       30.0   \n",
       "2  As the world slid nervously yesterday through ...             A       10.0   \n",
       "3  WILL the forces of globalism continue to push ...             E        4.0   \n",
       "4                                      SPECIAL TODAY             A        1.0   \n",
       "\n",
       "               source multimedia  \\\n",
       "0  The New York Times         []   \n",
       "1  The New York Times         []   \n",
       "2  The New York Times         []   \n",
       "3  The New York Times         []   \n",
       "4  The New York Times         []   \n",
       "\n",
       "                                            headline  \\\n",
       "0  {'main': 'Playoffs or No, Dallas Provides The ...   \n",
       "1  {'main': 'On This First Day, a Fanfare for the...   \n",
       "2  {'main': \"Internet's Cheering Squad Nervously ...   \n",
       "3  {'main': 'Economic Thinking Finds a Free Marke...   \n",
       "4  {'main': 'INSIDE', 'kicker': None, 'content_ki...   \n",
       "\n",
       "                                            keywords  \\\n",
       "0  [{'name': 'organizations', 'value': 'New York ...   \n",
       "1  [{'name': 'persons', 'value': 'Pond, Jeanne C'...   \n",
       "2  [{'name': 'subject', 'value': 'Electronic Mail...   \n",
       "3                                                 []   \n",
       "4                                                 []   \n",
       "\n",
       "                    pub_date document_type          news_desk section_name  \\\n",
       "0  2000-01-01 05:00:00+00:00       article        Sports Desk       Sports   \n",
       "1  2000-01-01 05:00:00+00:00       article     Editorial Desk      Opinion   \n",
       "2  2000-01-01 05:00:00+00:00       article      National Desk         U.S.   \n",
       "3  2000-01-01 05:00:00+00:00       article     The Millennium     Archives   \n",
       "4  2000-01-01 05:00:00+00:00       article  Metropolitan Desk     New York   \n",
       "\n",
       "                                              byline type_of_material  \\\n",
       "0  {'original': 'By Bill Pennington', 'person': [...             News   \n",
       "1  {'original': '', 'person': [], 'organization':...           Letter   \n",
       "2  {'original': 'By Barnaby J. Feder', 'person': ...             News   \n",
       "3  {'original': 'By Floyd Norris', 'person': [{'f...             News   \n",
       "4  {'original': '', 'person': [], 'organization':...          Summary   \n",
       "\n",
       "                                                 _id  word_count  \\\n",
       "0  nyt://article/01111a48-3502-5021-8096-bc929379...       819.0   \n",
       "1  nyt://article/02328edc-dad1-5eb0-900e-917162e4...       122.0   \n",
       "2  nyt://article/02a8f89b-153f-5b84-983c-e328de5b...       761.0   \n",
       "3  nyt://article/0634d837-97b8-59b5-aa17-f90d1a89...       916.0   \n",
       "4  nyt://article/0654cc64-c37f-594d-9290-1ce578cd...       102.0   \n",
       "\n",
       "                                                 uri subsection_name  \n",
       "0  nyt://article/01111a48-3502-5021-8096-bc929379...             NaN  \n",
       "1  nyt://article/02328edc-dad1-5eb0-900e-917162e4...             NaN  \n",
       "2  nyt://article/02a8f89b-153f-5b84-983c-e328de5b...             NaN  \n",
       "3  nyt://article/0634d837-97b8-59b5-aa17-f90d1a89...             NaN  \n",
       "4  nyt://article/0654cc64-c37f-594d-9290-1ce578cd...             NaN  "
      ]
     },
     "execution_count": 17,
     "metadata": {},
     "output_type": "execute_result"
    }
   ],
   "source": [
    "df.head()"
   ]
  },
  {
   "cell_type": "code",
   "execution_count": 18,
   "id": "af5cd795",
   "metadata": {},
   "outputs": [],
   "source": [
    "# Drop unwatned columns\n",
    "\n",
    "df.drop(['print_section', \n",
    "         'snippet', 'print_page', 'source', \n",
    "         'document_type', 'byline', 'keywords',  \n",
    "         'news_desk', 'type_of_material',  '_id', \n",
    "         'word_count', 'uri', 'multimedia', \n",
    "         'subsection_name'], axis=1, inplace=True)"
   ]
  },
  {
   "cell_type": "code",
   "execution_count": 19,
   "id": "c697301e",
   "metadata": {},
   "outputs": [
    {
     "data": {
      "text/plain": [
       "abstract          31917\n",
       "web_url               1\n",
       "lead_paragraph    41988\n",
       "headline              1\n",
       "pub_date              1\n",
       "section_name       2010\n",
       "dtype: int64"
      ]
     },
     "execution_count": 19,
     "metadata": {},
     "output_type": "execute_result"
    }
   ],
   "source": [
    "df.isnull().sum()"
   ]
  },
  {
   "cell_type": "code",
   "execution_count": 20,
   "id": "f9051cbf",
   "metadata": {},
   "outputs": [],
   "source": [
    "# drop the row where date is having null values\n",
    "df.dropna(subset=['pub_date'], inplace=True)"
   ]
  },
  {
   "cell_type": "code",
   "execution_count": 21,
   "id": "9aa4d76e",
   "metadata": {},
   "outputs": [],
   "source": [
    "# Fill the null values in the leadparagraph column from abstract \n",
    "df['lead_paragraph'] = np.where(df['lead_paragraph'].isnull(),\n",
    "                                   df['abstract'],\n",
    "                                   df['lead_paragraph'])"
   ]
  },
  {
   "cell_type": "code",
   "execution_count": 22,
   "id": "77a2a171",
   "metadata": {},
   "outputs": [],
   "source": [
    "# drop the row where date is having null values\n",
    "df.dropna(subset=['pub_date'], inplace=True)"
   ]
  },
  {
   "cell_type": "code",
   "execution_count": 23,
   "id": "558dda60",
   "metadata": {},
   "outputs": [
    {
     "data": {
      "text/plain": [
       "abstract          31917\n",
       "web_url               1\n",
       "lead_paragraph    31916\n",
       "headline              0\n",
       "pub_date              0\n",
       "section_name       2009\n",
       "dtype: int64"
      ]
     },
     "execution_count": 23,
     "metadata": {},
     "output_type": "execute_result"
    }
   ],
   "source": [
    "df.isnull().sum()"
   ]
  },
  {
   "cell_type": "code",
   "execution_count": 25,
   "id": "b87435ae",
   "metadata": {},
   "outputs": [],
   "source": [
    "# Convert the date into datetime format from object\n",
    "df['pub_date'] = pd.to_datetime(df['pub_date'], \n",
    "    format=\"%Y-%m-%d %H:%M:%S%z\", \n",
    "    errors='coerce')"
   ]
  },
  {
   "cell_type": "code",
   "execution_count": 26,
   "id": "84176b92",
   "metadata": {},
   "outputs": [],
   "source": [
    "# Create start and end date range for data filtering\n",
    "start_date = datetime(2015,1,1, tzinfo=pytz.UTC)\n",
    "\n",
    "end_date = datetime(2025,4,10, tzinfo=pytz.UTC)"
   ]
  },
  {
   "cell_type": "code",
   "execution_count": 27,
   "id": "5f5e1f68",
   "metadata": {},
   "outputs": [],
   "source": [
    "# Filter the DataFrame to include only rows with pub_date within the last 10 years\n",
    "df_filtered = df[(df['pub_date'] >= start_date) & (df['pub_date'] <= end_date)]"
   ]
  },
  {
   "cell_type": "code",
   "execution_count": 28,
   "id": "d8992d83",
   "metadata": {},
   "outputs": [
    {
     "name": "stdout",
     "output_type": "stream",
     "text": [
      "                                                  abstract  \\\n",
      "1683550  A writing table anchors a home built on a gran...   \n",
      "1683551  Building a modern loft in Portland, Ore., suff...   \n",
      "1683552  Building a loft in Portland, Ore., suffused wi...   \n",
      "1683553  A writing table anchors a home built on a gran...   \n",
      "1683554  Farhad Manjoo picks four products from 2014 th...   \n",
      "\n",
      "                                                   web_url  \\\n",
      "1683550  https://www.nytimes.com/slideshow/2015/01/01/g...   \n",
      "1683551  https://www.nytimes.com/slideshow/2015/01/01/g...   \n",
      "1683552  https://www.nytimes.com/2015/01/01/garden/the-...   \n",
      "1683553  https://www.nytimes.com/2015/01/01/garden/a-si...   \n",
      "1683554  https://www.nytimes.com/2015/01/01/technology/...   \n",
      "\n",
      "                                            lead_paragraph  \\\n",
      "1683550  A writing table anchors a home built on a gran...   \n",
      "1683551  Building a modern loft in Portland, Ore., suff...   \n",
      "1683552  For Joan Childs, southeast Portland, Ore., is ...   \n",
      "1683553  This story begins with a wooden table. My gran...   \n",
      "1683554  LOTS of cool new technology products come out ...   \n",
      "\n",
      "                                                  headline  \\\n",
      "1683550  {'main': 'They Knew What They Wanted', 'kicker...   \n",
      "1683551  {'main': 'Industrial Sleek', 'kicker': None, '...   \n",
      "1683552  {'main': 'The Imperfectionists', 'kicker': 'On...   \n",
      "1683553  {'main': 'A Simple Gift', 'kicker': 'Domestic ...   \n",
      "1683554  {'main': 'Standouts in Tech: Drones, Virtual R...   \n",
      "\n",
      "                         pub_date   section_name  \n",
      "1683550 2015-01-01 00:03:03+00:00  Home & Garden  \n",
      "1683551 2015-01-01 00:03:12+00:00  Home & Garden  \n",
      "1683552 2015-01-01 00:03:50+00:00  Home & Garden  \n",
      "1683553 2015-01-01 00:03:53+00:00  Home & Garden  \n",
      "1683554 2015-01-01 00:26:30+00:00     Technology  \n",
      "abstract          847\n",
      "web_url             0\n",
      "lead_paragraph    847\n",
      "headline            0\n",
      "pub_date            0\n",
      "section_name      984\n",
      "dtype: int64\n"
     ]
    }
   ],
   "source": [
    "# Print the first few rows of the filtered DataFrame\n",
    "print(df_filtered.head())\n",
    "print(df_filtered.isnull().sum())"
   ]
  },
  {
   "cell_type": "code",
   "execution_count": 29,
   "id": "73b08763",
   "metadata": {},
   "outputs": [],
   "source": [
    "# Store the dataframe as CSV file\n",
    "df_filtered.to_csv('raw_data.csv')"
   ]
  },
  {
   "cell_type": "code",
   "execution_count": null,
   "id": "1bbfe534",
   "metadata": {},
   "outputs": [],
   "source": [
    "import boto3\n",
    "from botocore.exceptions import ClientError\n",
    "import json"
   ]
  },
  {
   "cell_type": "code",
   "execution_count": 63,
   "id": "1ef0bc78",
   "metadata": {},
   "outputs": [],
   "source": [
    "with open('secrets.json') as f:\n",
    "    secrets = json.load(f)\n"
   ]
  },
  {
   "cell_type": "code",
   "execution_count": 65,
   "id": "94ef21f1",
   "metadata": {},
   "outputs": [],
   "source": [
    "access_key = secrets['AWS_ACCESS_KEY']\n",
    "secret_key = secrets['AWS_SECRET_KEY']"
   ]
  },
  {
   "cell_type": "code",
   "execution_count": 66,
   "id": "ba39b813",
   "metadata": {},
   "outputs": [],
   "source": [
    "# Connect with AWS S3 Client\n",
    "s3_client = boto3.client(\n",
    "    's3',\n",
    "    aws_access_key_id=access_key,\n",
    "    aws_secret_access_key=secret_key\n",
    "    )"
   ]
  },
  {
   "cell_type": "code",
   "execution_count": 67,
   "id": "ea22a600",
   "metadata": {},
   "outputs": [
    {
     "data": {
      "text/plain": [
       "{'ResponseMetadata': {'RequestId': '799GGNJG6GZSW9HT',\n",
       "  'HostId': '2nzLdhb92uIzaN64SiGHYOtgSjXex+/XV3Fg0S5AGKItYpBERTzMLpkaj98nqSJ9TBovcdoszvk=',\n",
       "  'HTTPStatusCode': 200,\n",
       "  'HTTPHeaders': {'x-amz-id-2': '2nzLdhb92uIzaN64SiGHYOtgSjXex+/XV3Fg0S5AGKItYpBERTzMLpkaj98nqSJ9TBovcdoszvk=',\n",
       "   'x-amz-request-id': '799GGNJG6GZSW9HT',\n",
       "   'date': 'Tue, 06 May 2025 15:44:18 GMT',\n",
       "   'content-type': 'application/xml',\n",
       "   'transfer-encoding': 'chunked',\n",
       "   'server': 'AmazonS3'},\n",
       "  'RetryAttempts': 0},\n",
       " 'Buckets': [{'Name': 'senticonomyguvi',\n",
       "   'CreationDate': datetime.datetime(2025, 5, 6, 14, 11, 42, tzinfo=tzutc())}],\n",
       " 'Owner': {'DisplayName': 'nimsysekhar',\n",
       "  'ID': 'e0e381db0c82dc8f74204a1059d39fb80acbf3bbf7b49707c1efa29f6aabd5f8'}}"
      ]
     },
     "execution_count": 67,
     "metadata": {},
     "output_type": "execute_result"
    }
   ],
   "source": [
    "bucket = s3_client.list_buckets()\n",
    "bucket"
   ]
  },
  {
   "cell_type": "code",
   "execution_count": null,
   "id": "a789c368",
   "metadata": {},
   "outputs": [
    {
     "name": "stdout",
     "output_type": "stream",
     "text": [
      "File raw_data.csv uploaded successfully to S3 bucket 'senticonomy'\n"
     ]
    }
   ],
   "source": [
    "# AWS Upload\"\n",
    "file = \"raw_data.csv\"\n",
    "try:\n",
    "    s3_client.upload_file(file, 'senticonomyguvi', 'raw_data.csv')\n",
    "    print(f\"File {file} uploaded successfully to S3 bucket 'senticonomy'\")\n",
    "except ClientError as e:\n",
    "    print(f\"Error uploading file {file} to S3 bucket 'senticonomy': {e}\")"
   ]
  },
  {
   "cell_type": "code",
   "execution_count": null,
   "id": "137ce5c7",
   "metadata": {},
   "outputs": [],
   "source": [
    "# AWS Download\"\n",
    "s3_client.download_file('senticonomyguvi', 'raw_data.csv', 'uncleaned_data.csv')  #(Bucket name, File Name, Downloading Path)"
   ]
  },
  {
   "cell_type": "code",
   "execution_count": null,
   "id": "058bc29f",
   "metadata": {},
   "outputs": [],
   "source": [
    "#Cleaning Collected Data\n",
    "# Read csv file and store as Dataframe\n",
    "uncleaned_data = pd.read_csv('uncleaned_data.csv')\n",
    "df = pd.DataFrame(uncleaned_data)"
   ]
  },
  {
   "cell_type": "code",
   "execution_count": 18,
   "id": "2bbdd0db",
   "metadata": {},
   "outputs": [],
   "source": [
    "pd.set_option('display.max_colwidth', None)"
   ]
  },
  {
   "cell_type": "code",
   "execution_count": 19,
   "id": "25649e64",
   "metadata": {},
   "outputs": [],
   "source": [
    "# Drop the column name \"Unnamed\"\n",
    "df.drop(['Unnamed: 0'], axis=1, inplace=True)"
   ]
  },
  {
   "cell_type": "code",
   "execution_count": 20,
   "id": "11e84166",
   "metadata": {},
   "outputs": [],
   "source": [
    "# convert the date into datetime format\n",
    "df['pub_date'] = pd.to_datetime(df['pub_date'])"
   ]
  },
  {
   "cell_type": "code",
   "execution_count": 21,
   "id": "92128da2",
   "metadata": {},
   "outputs": [],
   "source": [
    "# Extract day, month, year and time from 'pub_date' column for better analysis\n",
    "\n",
    "df['year'] = df['pub_date'].dt.year\n",
    "df['month'] = df['pub_date'].dt.month\n",
    "df['day'] = df['pub_date'].dt.day\n",
    "df['day_of_week'] = df['pub_date'].dt.day_name()\n",
    "df['date'] = df['pub_date'].dt.date\n",
    "df['time'] = df['pub_date'].dt.time"
   ]
  },
  {
   "cell_type": "code",
   "execution_count": 22,
   "id": "0e662fc5",
   "metadata": {},
   "outputs": [],
   "source": [
    "import pandas as pd\n",
    "import ast\n",
    "import numpy as np\n",
    "import os"
   ]
  },
  {
   "cell_type": "code",
   "execution_count": 23,
   "id": "619e8ecb",
   "metadata": {},
   "outputs": [],
   "source": [
    "# Extract main Headline from headline column which has dictionary type of data\n",
    "df['headline'] = df['headline'].apply(lambda x: ast.literal_eval(x)['main'])"
   ]
  },
  {
   "cell_type": "code",
   "execution_count": 24,
   "id": "e590d274",
   "metadata": {},
   "outputs": [],
   "source": [
    "# Fill the lead_paragraph column with abstract column info where lead_paragraph column has only the info of \"To the Editor:\" (Seen in many rows)\n",
    "df['lead_paragraph'] = np.where(df['lead_paragraph'] == 'To the Editor:',\n",
    "                                   df['abstract'] ,\n",
    "                                   df['lead_paragraph'])"
   ]
  },
  {
   "cell_type": "code",
   "execution_count": 25,
   "id": "1ab6b67e",
   "metadata": {},
   "outputs": [],
   "source": [
    "# Rename the column names for better understanding\n",
    "df.rename(columns={'lead_paragraph': 'content', 'section_name': 'category'}, inplace=True)"
   ]
  },
  {
   "cell_type": "code",
   "execution_count": 26,
   "id": "87703e2c",
   "metadata": {},
   "outputs": [],
   "source": [
    "category = [\"Travel\", \"Technology\", \"Science\", \"Health\", \"Food\", \"Education\", \"Sports\"]\n",
    "df = df[df['category'].isin(category)]\n",
    "unique_categories, counts = np.unique(df['category'], return_counts=True)"
   ]
  },
  {
   "cell_type": "code",
   "execution_count": 27,
   "id": "83c0d9a4",
   "metadata": {},
   "outputs": [
    {
     "name": "stdout",
     "output_type": "stream",
     "text": [
      "Education: 2167\n",
      "Food: 10177\n",
      "Health: 6056\n",
      "Science: 6439\n",
      "Sports: 30412\n",
      "Technology: 9434\n",
      "Travel: 5651\n",
      "web_url         0\n",
      "content        14\n",
      "headline        0\n",
      "category        0\n",
      "year            0\n",
      "month           0\n",
      "day             0\n",
      "day_of_week     0\n",
      "date            0\n",
      "time            0\n",
      "dtype: int64\n"
     ]
    }
   ],
   "source": [
    "for category, count in zip(unique_categories, counts):\n",
    "    print(f\"{category}: {count}\")\n",
    "\n",
    "df.drop(['abstract', 'pub_date'], axis=1, inplace=True)\n",
    "\n",
    "print(df.isnull().sum())"
   ]
  },
  {
   "cell_type": "code",
   "execution_count": 28,
   "id": "bac042da",
   "metadata": {},
   "outputs": [],
   "source": [
    "new_df = df[['date', 'time', 'headline', 'content', 'web_url', 'category', 'day', 'month', 'day_of_week', 'year']]\n",
    "\n",
    "new_df.to_csv('cleaned_news_data.csv')"
   ]
  },
  {
   "cell_type": "code",
   "execution_count": 29,
   "id": "689045c1",
   "metadata": {},
   "outputs": [],
   "source": [
    "file_size = os.path.getsize('cleaned_news_data.csv')"
   ]
  },
  {
   "cell_type": "code",
   "execution_count": 30,
   "id": "217ba085",
   "metadata": {},
   "outputs": [
    {
     "name": "stdout",
     "output_type": "stream",
     "text": [
      "The size of the CSV file is: 29.79 MB\n"
     ]
    }
   ],
   "source": [
    "if file_size < 1024:\n",
    "    print(f\"The size of the CSV file is: {file_size} bytes\")\n",
    "elif file_size < 1024 ** 2:\n",
    "    print(f\"The size of the CSV file is: {file_size / 1024:.2f} KB\")\n",
    "else:\n",
    "    print(f\"The size of the CSV file is: {file_size / (1024 ** 2):.2f} MB\")"
   ]
  },
  {
   "cell_type": "code",
   "execution_count": 2,
   "id": "8ff693d7",
   "metadata": {},
   "outputs": [
    {
     "name": "stderr",
     "output_type": "stream",
     "text": [
      "d:\\Sentiment_Analysis\\.venv\\Lib\\site-packages\\tqdm\\auto.py:21: TqdmWarning: IProgress not found. Please update jupyter and ipywidgets. See https://ipywidgets.readthedocs.io/en/stable/user_install.html\n",
      "  from .autonotebook import tqdm as notebook_tqdm\n",
      "None of PyTorch, TensorFlow >= 2.0, or Flax have been found. Models won't be available and only tokenizers, configuration and file/data utilities can be used.\n",
      "None of PyTorch, TensorFlow >= 2.0, or Flax have been found. Models won't be available and only tokenizers, configuration and file/data utilities can be used.\n"
     ]
    }
   ],
   "source": [
    "#Building Model\n",
    "import pandas as pd\n",
    "import numpy as np\n",
    "from sklearn.feature_extraction.text import TfidfVectorizer\n",
    "from sklearn.cluster import KMeans\n",
    "import matplotlib.pyplot as plt\n",
    "from wordcloud import WordCloud\n",
    "from nltk.tokenize import word_tokenize, sent_tokenize\n",
    "from nltk.stem import WordNetLemmatizer\n",
    "from nltk.corpus import stopwords\n",
    "from nltk import download\n",
    "from sklearn.cluster import KMeans\n",
    "from transformers import pipeline\n",
    "from textblob import TextBlob\n",
    "import nltk\n",
    "from nltk.sentiment.vader import SentimentIntensityAnalyzer\n",
    "import os"
   ]
  },
  {
   "cell_type": "code",
   "execution_count": 3,
   "id": "022ba2ff",
   "metadata": {},
   "outputs": [
    {
     "name": "stderr",
     "output_type": "stream",
     "text": [
      "[nltk_data] Downloading package punkt to\n",
      "[nltk_data]     C:\\Users\\Abilash\\AppData\\Roaming\\nltk_data...\n",
      "[nltk_data]   Unzipping tokenizers\\punkt.zip.\n",
      "[nltk_data] Downloading package wordnet to\n",
      "[nltk_data]     C:\\Users\\Abilash\\AppData\\Roaming\\nltk_data...\n",
      "[nltk_data] Downloading package stopwords to\n",
      "[nltk_data]     C:\\Users\\Abilash\\AppData\\Roaming\\nltk_data...\n",
      "[nltk_data]   Unzipping corpora\\stopwords.zip.\n"
     ]
    },
    {
     "data": {
      "text/plain": [
       "True"
      ]
     },
     "execution_count": 3,
     "metadata": {},
     "output_type": "execute_result"
    }
   ],
   "source": [
    "download('punkt')\n",
    "download('wordnet')\n",
    "download('stopwords')"
   ]
  },
  {
   "cell_type": "code",
   "execution_count": 4,
   "id": "0483c4e3",
   "metadata": {},
   "outputs": [],
   "source": [
    "df = pd.read_csv(\"cleaned_news_data.csv\")"
   ]
  },
  {
   "cell_type": "code",
   "execution_count": 8,
   "id": "129d447f",
   "metadata": {},
   "outputs": [
    {
     "data": {
      "text/html": [
       "<div>\n",
       "<style scoped>\n",
       "    .dataframe tbody tr th:only-of-type {\n",
       "        vertical-align: middle;\n",
       "    }\n",
       "\n",
       "    .dataframe tbody tr th {\n",
       "        vertical-align: top;\n",
       "    }\n",
       "\n",
       "    .dataframe thead th {\n",
       "        text-align: right;\n",
       "    }\n",
       "</style>\n",
       "<table border=\"1\" class=\"dataframe\">\n",
       "  <thead>\n",
       "    <tr style=\"text-align: right;\">\n",
       "      <th></th>\n",
       "      <th>Unnamed: 0</th>\n",
       "      <th>date</th>\n",
       "      <th>time</th>\n",
       "      <th>headline</th>\n",
       "      <th>content</th>\n",
       "      <th>web_url</th>\n",
       "      <th>category</th>\n",
       "      <th>day</th>\n",
       "      <th>month</th>\n",
       "      <th>day_of_week</th>\n",
       "      <th>year</th>\n",
       "    </tr>\n",
       "  </thead>\n",
       "  <tbody>\n",
       "    <tr>\n",
       "      <th>0</th>\n",
       "      <td>4</td>\n",
       "      <td>2015-01-01</td>\n",
       "      <td>00:26:30</td>\n",
       "      <td>Standouts in Tech: Drones, Virtual Reality, In...</td>\n",
       "      <td>LOTS of cool new technology products come out ...</td>\n",
       "      <td>https://www.nytimes.com/2015/01/01/technology/...</td>\n",
       "      <td>Technology</td>\n",
       "      <td>1</td>\n",
       "      <td>1</td>\n",
       "      <td>Thursday</td>\n",
       "      <td>2015</td>\n",
       "    </tr>\n",
       "    <tr>\n",
       "      <th>1</th>\n",
       "      <td>7</td>\n",
       "      <td>2015-01-01</td>\n",
       "      <td>00:49:41</td>\n",
       "      <td>Canada Holds Off U.S. in Preliminary Junior Ch...</td>\n",
       "      <td>MONTREAL — Led by a line of Sam Reinhart, Max ...</td>\n",
       "      <td>https://www.nytimes.com/2015/01/01/sports/hock...</td>\n",
       "      <td>Sports</td>\n",
       "      <td>1</td>\n",
       "      <td>1</td>\n",
       "      <td>Thursday</td>\n",
       "      <td>2015</td>\n",
       "    </tr>\n",
       "    <tr>\n",
       "      <th>2</th>\n",
       "      <td>15</td>\n",
       "      <td>2015-01-01</td>\n",
       "      <td>01:20:51</td>\n",
       "      <td>Doug Marrone Quits Bills and Is Said to Draw J...</td>\n",
       "      <td>Doug Marrone opted out of his contract as coac...</td>\n",
       "      <td>https://www.nytimes.com/2015/01/01/sports/foot...</td>\n",
       "      <td>Sports</td>\n",
       "      <td>1</td>\n",
       "      <td>1</td>\n",
       "      <td>Thursday</td>\n",
       "      <td>2015</td>\n",
       "    </tr>\n",
       "    <tr>\n",
       "      <th>3</th>\n",
       "      <td>22</td>\n",
       "      <td>2015-01-01</td>\n",
       "      <td>01:43:15</td>\n",
       "      <td>Sugar Bowl 2015: Alabama vs. Ohio State Preview</td>\n",
       "      <td>SUGAR BOWL</td>\n",
       "      <td>https://www.nytimes.com/2015/01/01/sports/ncaa...</td>\n",
       "      <td>Sports</td>\n",
       "      <td>1</td>\n",
       "      <td>1</td>\n",
       "      <td>Thursday</td>\n",
       "      <td>2015</td>\n",
       "    </tr>\n",
       "    <tr>\n",
       "      <th>4</th>\n",
       "      <td>23</td>\n",
       "      <td>2015-01-01</td>\n",
       "      <td>01:43:41</td>\n",
       "      <td>Florida State vs. Oregon: Rose Bowl Preview</td>\n",
       "      <td>ROSE BOWL</td>\n",
       "      <td>https://www.nytimes.com/2015/01/01/sports/ncaa...</td>\n",
       "      <td>Sports</td>\n",
       "      <td>1</td>\n",
       "      <td>1</td>\n",
       "      <td>Thursday</td>\n",
       "      <td>2015</td>\n",
       "    </tr>\n",
       "    <tr>\n",
       "      <th>...</th>\n",
       "      <td>...</td>\n",
       "      <td>...</td>\n",
       "      <td>...</td>\n",
       "      <td>...</td>\n",
       "      <td>...</td>\n",
       "      <td>...</td>\n",
       "      <td>...</td>\n",
       "      <td>...</td>\n",
       "      <td>...</td>\n",
       "      <td>...</td>\n",
       "      <td>...</td>\n",
       "    </tr>\n",
       "    <tr>\n",
       "      <th>70331</th>\n",
       "      <td>508081</td>\n",
       "      <td>2025-04-01</td>\n",
       "      <td>18:07:48</td>\n",
       "      <td>Federal Health Work Force Makes Up Less Than 1...</td>\n",
       "      <td>A few days ago, Robert F. Kennedy Jr., the hea...</td>\n",
       "      <td>https://www.nytimes.com/2025/04/01/health/hhs-...</td>\n",
       "      <td>Health</td>\n",
       "      <td>1</td>\n",
       "      <td>4</td>\n",
       "      <td>Tuesday</td>\n",
       "      <td>2025</td>\n",
       "    </tr>\n",
       "    <tr>\n",
       "      <th>70332</th>\n",
       "      <td>508085</td>\n",
       "      <td>2025-04-01</td>\n",
       "      <td>18:19:48</td>\n",
       "      <td>He Wore a ‘Patriotic’ Hat to a Blue Jays Game....</td>\n",
       "      <td>A fan got kicked out of a baseball stadium las...</td>\n",
       "      <td>https://www.nytimes.com/2025/04/01/sports/base...</td>\n",
       "      <td>Sports</td>\n",
       "      <td>1</td>\n",
       "      <td>4</td>\n",
       "      <td>Tuesday</td>\n",
       "      <td>2025</td>\n",
       "    </tr>\n",
       "    <tr>\n",
       "      <th>70333</th>\n",
       "      <td>508090</td>\n",
       "      <td>2025-04-01</td>\n",
       "      <td>19:21:23</td>\n",
       "      <td>More than 230 People Infected With Norovirus o...</td>\n",
       "      <td>More than 230 passengers and crew members have...</td>\n",
       "      <td>https://www.nytimes.com/2025/04/01/travel/noro...</td>\n",
       "      <td>Travel</td>\n",
       "      <td>1</td>\n",
       "      <td>4</td>\n",
       "      <td>Tuesday</td>\n",
       "      <td>2025</td>\n",
       "    </tr>\n",
       "    <tr>\n",
       "      <th>70334</th>\n",
       "      <td>508096</td>\n",
       "      <td>2025-04-01</td>\n",
       "      <td>20:30:00</td>\n",
       "      <td>How to Organize Your Pantry</td>\n",
       "      <td>[This article was originally published in Janu...</td>\n",
       "      <td>https://cooking.nytimes.com/article/pantry-sta...</td>\n",
       "      <td>Food</td>\n",
       "      <td>1</td>\n",
       "      <td>4</td>\n",
       "      <td>Tuesday</td>\n",
       "      <td>2025</td>\n",
       "    </tr>\n",
       "    <tr>\n",
       "      <th>70335</th>\n",
       "      <td>508098</td>\n",
       "      <td>2025-04-01</td>\n",
       "      <td>20:31:54</td>\n",
       "      <td>This Tree Wants to Be Struck by Lightning</td>\n",
       "      <td>When lightning strikes a tree in the tropics, ...</td>\n",
       "      <td>https://www.nytimes.com/2025/04/01/science/tre...</td>\n",
       "      <td>Science</td>\n",
       "      <td>1</td>\n",
       "      <td>4</td>\n",
       "      <td>Tuesday</td>\n",
       "      <td>2025</td>\n",
       "    </tr>\n",
       "  </tbody>\n",
       "</table>\n",
       "<p>70336 rows × 11 columns</p>\n",
       "</div>"
      ],
      "text/plain": [
       "       Unnamed: 0        date      time  \\\n",
       "0               4  2015-01-01  00:26:30   \n",
       "1               7  2015-01-01  00:49:41   \n",
       "2              15  2015-01-01  01:20:51   \n",
       "3              22  2015-01-01  01:43:15   \n",
       "4              23  2015-01-01  01:43:41   \n",
       "...           ...         ...       ...   \n",
       "70331      508081  2025-04-01  18:07:48   \n",
       "70332      508085  2025-04-01  18:19:48   \n",
       "70333      508090  2025-04-01  19:21:23   \n",
       "70334      508096  2025-04-01  20:30:00   \n",
       "70335      508098  2025-04-01  20:31:54   \n",
       "\n",
       "                                                headline  \\\n",
       "0      Standouts in Tech: Drones, Virtual Reality, In...   \n",
       "1      Canada Holds Off U.S. in Preliminary Junior Ch...   \n",
       "2      Doug Marrone Quits Bills and Is Said to Draw J...   \n",
       "3        Sugar Bowl 2015: Alabama vs. Ohio State Preview   \n",
       "4            Florida State vs. Oregon: Rose Bowl Preview   \n",
       "...                                                  ...   \n",
       "70331  Federal Health Work Force Makes Up Less Than 1...   \n",
       "70332  He Wore a ‘Patriotic’ Hat to a Blue Jays Game....   \n",
       "70333  More than 230 People Infected With Norovirus o...   \n",
       "70334                        How to Organize Your Pantry   \n",
       "70335          This Tree Wants to Be Struck by Lightning   \n",
       "\n",
       "                                                 content  \\\n",
       "0      LOTS of cool new technology products come out ...   \n",
       "1      MONTREAL — Led by a line of Sam Reinhart, Max ...   \n",
       "2      Doug Marrone opted out of his contract as coac...   \n",
       "3                                             SUGAR BOWL   \n",
       "4                                              ROSE BOWL   \n",
       "...                                                  ...   \n",
       "70331  A few days ago, Robert F. Kennedy Jr., the hea...   \n",
       "70332  A fan got kicked out of a baseball stadium las...   \n",
       "70333  More than 230 passengers and crew members have...   \n",
       "70334  [This article was originally published in Janu...   \n",
       "70335  When lightning strikes a tree in the tropics, ...   \n",
       "\n",
       "                                                 web_url    category  day  \\\n",
       "0      https://www.nytimes.com/2015/01/01/technology/...  Technology    1   \n",
       "1      https://www.nytimes.com/2015/01/01/sports/hock...      Sports    1   \n",
       "2      https://www.nytimes.com/2015/01/01/sports/foot...      Sports    1   \n",
       "3      https://www.nytimes.com/2015/01/01/sports/ncaa...      Sports    1   \n",
       "4      https://www.nytimes.com/2015/01/01/sports/ncaa...      Sports    1   \n",
       "...                                                  ...         ...  ...   \n",
       "70331  https://www.nytimes.com/2025/04/01/health/hhs-...      Health    1   \n",
       "70332  https://www.nytimes.com/2025/04/01/sports/base...      Sports    1   \n",
       "70333  https://www.nytimes.com/2025/04/01/travel/noro...      Travel    1   \n",
       "70334  https://cooking.nytimes.com/article/pantry-sta...        Food    1   \n",
       "70335  https://www.nytimes.com/2025/04/01/science/tre...     Science    1   \n",
       "\n",
       "       month day_of_week  year  \n",
       "0          1    Thursday  2015  \n",
       "1          1    Thursday  2015  \n",
       "2          1    Thursday  2015  \n",
       "3          1    Thursday  2015  \n",
       "4          1    Thursday  2015  \n",
       "...      ...         ...   ...  \n",
       "70331      4     Tuesday  2025  \n",
       "70332      4     Tuesday  2025  \n",
       "70333      4     Tuesday  2025  \n",
       "70334      4     Tuesday  2025  \n",
       "70335      4     Tuesday  2025  \n",
       "\n",
       "[70336 rows x 11 columns]"
      ]
     },
     "execution_count": 8,
     "metadata": {},
     "output_type": "execute_result"
    }
   ],
   "source": [
    "df "
   ]
  },
  {
   "cell_type": "code",
   "execution_count": 9,
   "id": "68882e34",
   "metadata": {},
   "outputs": [
    {
     "data": {
      "text/plain": [
       "Unnamed: 0      0\n",
       "date            0\n",
       "time            0\n",
       "headline        2\n",
       "content        14\n",
       "web_url         0\n",
       "category        0\n",
       "day             0\n",
       "month           0\n",
       "day_of_week     0\n",
       "year            0\n",
       "dtype: int64"
      ]
     },
     "execution_count": 9,
     "metadata": {},
     "output_type": "execute_result"
    }
   ],
   "source": [
    "df.isna().sum()\n"
   ]
  },
  {
   "cell_type": "code",
   "execution_count": 10,
   "id": "6a37816a",
   "metadata": {},
   "outputs": [],
   "source": [
    "df['headline'] = df['headline'].fillna('')\n",
    "df['content'] = df['content'].fillna('')"
   ]
  },
  {
   "cell_type": "code",
   "execution_count": 11,
   "id": "9bdb7ef6",
   "metadata": {},
   "outputs": [
    {
     "data": {
      "text/plain": [
       "Unnamed: 0     0\n",
       "date           0\n",
       "time           0\n",
       "headline       0\n",
       "content        0\n",
       "web_url        0\n",
       "category       0\n",
       "day            0\n",
       "month          0\n",
       "day_of_week    0\n",
       "year           0\n",
       "dtype: int64"
      ]
     },
     "execution_count": 11,
     "metadata": {},
     "output_type": "execute_result"
    }
   ],
   "source": [
    "df.isna().sum()"
   ]
  },
  {
   "cell_type": "code",
   "execution_count": 12,
   "id": "a6f3f070",
   "metadata": {},
   "outputs": [],
   "source": [
    "vectorizer = TfidfVectorizer(stop_words='english', max_features=5000)\n",
    "x = vectorizer.fit_transform(df['category']+ \" \"+df['headline'] )"
   ]
  },
  {
   "cell_type": "code",
   "execution_count": 13,
   "id": "166a5165",
   "metadata": {},
   "outputs": [],
   "source": [
    "no_of_clusters = len(df['category'].unique())"
   ]
  },
  {
   "cell_type": "code",
   "execution_count": 14,
   "id": "911c2791",
   "metadata": {},
   "outputs": [
    {
     "name": "stdout",
     "output_type": "stream",
     "text": [
      "The model inertia is: 66909.51048578949\n"
     ]
    }
   ],
   "source": [
    "kmeans = KMeans(n_clusters=no_of_clusters, random_state=42, n_init=10)\n",
    "df['cluster'] = kmeans.fit_predict(x)\n",
    "unique_cluster, counts = np.unique(df['cluster'], return_counts=True)\n",
    "inertia = kmeans.inertia_\n",
    "print(f'The model inertia is: {inertia}')"
   ]
  },
  {
   "cell_type": "code",
   "execution_count": 15,
   "id": "799f7689",
   "metadata": {},
   "outputs": [],
   "source": [
    "df = df.copy()\n",
    "df.drop(['Unnamed: 0'], axis=1, inplace=True)"
   ]
  },
  {
   "cell_type": "code",
   "execution_count": 16,
   "id": "02319879",
   "metadata": {},
   "outputs": [
    {
     "name": "stderr",
     "output_type": "stream",
     "text": [
      "[nltk_data] Downloading package vader_lexicon to\n",
      "[nltk_data]     C:\\Users\\Abilash\\AppData\\Roaming\\nltk_data...\n",
      "[nltk_data] Downloading package stopwords to\n",
      "[nltk_data]     C:\\Users\\Abilash\\AppData\\Roaming\\nltk_data...\n",
      "[nltk_data]   Package stopwords is already up-to-date!\n",
      "[nltk_data] Downloading package wordnet to\n",
      "[nltk_data]     C:\\Users\\Abilash\\AppData\\Roaming\\nltk_data...\n",
      "[nltk_data]   Package wordnet is already up-to-date!\n",
      "[nltk_data] Downloading package punkt_tab to\n",
      "[nltk_data]     C:\\Users\\Abilash\\AppData\\Roaming\\nltk_data...\n",
      "[nltk_data]   Unzipping tokenizers\\punkt_tab.zip.\n"
     ]
    },
    {
     "data": {
      "text/plain": [
       "True"
      ]
     },
     "execution_count": 16,
     "metadata": {},
     "output_type": "execute_result"
    }
   ],
   "source": [
    "nltk.download('vader_lexicon')\n",
    "nltk.download('stopwords')\n",
    "nltk.download('wordnet')\n",
    "nltk.download('punkt_tab')"
   ]
  },
  {
   "cell_type": "code",
   "execution_count": 17,
   "id": "bbb5f1b7",
   "metadata": {},
   "outputs": [],
   "source": [
    "stop_words = set(stopwords.words('english'))\n",
    "lemmatizer = WordNetLemmatizer()\n",
    "\n",
    "sia = SentimentIntensityAnalyzer()"
   ]
  },
  {
   "cell_type": "code",
   "execution_count": 18,
   "id": "9d05f9dd",
   "metadata": {},
   "outputs": [],
   "source": [
    "def process_text(text):\n",
    "    # Tokenize the text into words\n",
    "    words = word_tokenize(text)\n",
    "\n",
    "    # Remove stop words and lemmatize the words\n",
    "    words = [lemmatizer.lemmatize(word.lower()) for word in words if word.lower() not in stop_words]\n",
    "    return ' '.join(words)"
   ]
  },
  {
   "cell_type": "code",
   "execution_count": 19,
   "id": "4022bdd6",
   "metadata": {},
   "outputs": [],
   "source": [
    "def calculate_sentiment_score(text):\n",
    "    sentiment_score = sia.polarity_scores(text)\n",
    "    return sentiment_score\n"
   ]
  },
  {
   "cell_type": "code",
   "execution_count": 20,
   "id": "0105e5d8",
   "metadata": {},
   "outputs": [
    {
     "name": "stdout",
     "output_type": "stream",
     "text": [
      "         category  cluster    neg    neu    pos  compound\n",
      "70286  Technology        6  0.000  1.000  0.000    0.0000\n",
      "70287     Science        3  0.000  1.000  0.000    0.0000\n",
      "70288      Travel        0  0.256  0.568  0.176   -0.7506\n",
      "70289        Food        4  0.000  0.209  0.791    0.9577\n",
      "70290     Science        3  0.000  0.672  0.328    0.8280\n",
      "70291      Health        5  0.000  0.690  0.310    0.5423\n",
      "70292  Technology        6  0.000  0.763  0.237    0.4767\n",
      "70293     Science        3  0.244  0.651  0.104   -0.5106\n",
      "70294      Travel        0  0.000  0.506  0.494    0.8316\n",
      "70295        Food        4  0.000  0.071  0.929    0.9184\n",
      "70296        Food        4  0.180  0.820  0.000   -0.5913\n",
      "70297  Technology        6  0.098  0.902  0.000   -0.5574\n",
      "70298     Science        3  0.000  1.000  0.000    0.0000\n",
      "70299     Science        3  0.000  1.000  0.000    0.0000\n",
      "70300      Travel        0  0.349  0.651  0.000   -0.8442\n",
      "70301        Food        4  0.000  1.000  0.000    0.0000\n",
      "70302  Technology        6  0.256  0.744  0.000   -0.4767\n",
      "70303  Technology        6  0.000  0.892  0.108    0.1779\n",
      "70304        Food        4  0.000  1.000  0.000    0.0000\n",
      "70305     Science        3  0.000  1.000  0.000    0.0000\n",
      "70306  Technology        6  0.000  0.896  0.104    0.2732\n",
      "70307      Health        5  0.266  0.640  0.094   -0.6249\n",
      "70308     Science        3  0.081  0.811  0.108    0.2023\n",
      "70309        Food        4  0.000  0.732  0.268    0.5106\n",
      "70310        Food        4  0.133  0.867  0.000   -0.3818\n",
      "70311        Food        4  0.000  1.000  0.000    0.0000\n",
      "70312      Sports        1  0.114  0.762  0.124   -0.1779\n",
      "70313        Food        4  0.000  0.724  0.276    0.7845\n",
      "70314      Health        5  0.000  0.915  0.085    0.3400\n",
      "70315      Health        5  0.000  1.000  0.000    0.0000\n",
      "70316      Travel        0  0.000  1.000  0.000    0.0000\n",
      "70317  Technology        6  0.000  1.000  0.000    0.0000\n",
      "70318        Food        4  0.000  0.649  0.351    0.8977\n",
      "70319  Technology        6  0.000  1.000  0.000    0.0000\n",
      "70320      Travel        0  0.000  0.717  0.283    0.6486\n",
      "70321        Food        4  0.140  0.787  0.073   -0.2960\n",
      "70322        Food        4  0.218  0.782  0.000   -0.4184\n",
      "70323        Food        4  0.000  0.752  0.248    0.9260\n",
      "70324      Travel        0  0.000  1.000  0.000    0.0000\n",
      "70325        Food        4  0.000  1.000  0.000    0.0000\n",
      "70326      Health        5  0.071  0.667  0.262    0.6124\n",
      "70327        Food        4  0.157  0.591  0.251    0.7906\n",
      "70328     Science        3  0.128  0.872  0.000   -0.4215\n",
      "70329        Food        4  0.036  0.927  0.037    0.0258\n",
      "70330      Health        5  0.000  0.736  0.264    0.8225\n",
      "70331      Health        5  0.000  1.000  0.000    0.0000\n",
      "70332      Sports        1  0.173  0.703  0.124   -0.2263\n",
      "70333      Travel        0  0.163  0.837  0.000   -0.5423\n",
      "70334        Food        4  0.000  1.000  0.000    0.0000\n",
      "70335     Science        3  0.200  0.800  0.000   -0.1280\n"
     ]
    }
   ],
   "source": [
    "df['processed_content'] = df['content'].apply(process_text)\n",
    "df['sentiment_score'] = df['processed_content'].apply(calculate_sentiment_score)\n",
    "df['neg'] = df['sentiment_score'].apply(lambda x: x['neg'])\n",
    "df['neu'] = df['sentiment_score'].apply(lambda x: x['neu'])\n",
    "df['pos'] = df['sentiment_score'].apply(lambda x: x['pos'])\n",
    "df['compound'] = df['sentiment_score'].apply(lambda x: x['compound'])\n",
    "df.drop(['sentiment_score', 'processed_content'], axis=1, inplace=True)\n",
    "print(df[['category', 'cluster', 'neg', 'neu', 'pos', 'compound']].tail(50))"
   ]
  },
  {
   "cell_type": "code",
   "execution_count": 21,
   "id": "75617b6d",
   "metadata": {},
   "outputs": [
    {
     "name": "stdout",
     "output_type": "stream",
     "text": [
      "<class 'pandas.core.frame.DataFrame'>\n",
      "RangeIndex: 70336 entries, 0 to 70335\n",
      "Data columns (total 12 columns):\n",
      " #   Column       Non-Null Count  Dtype  \n",
      "---  ------       --------------  -----  \n",
      " 0   Unnamed: 0   70336 non-null  int64  \n",
      " 1   date         70336 non-null  object \n",
      " 2   headline     70334 non-null  object \n",
      " 3   content      70322 non-null  object \n",
      " 4   category     70336 non-null  object \n",
      " 5   day_of_week  70336 non-null  object \n",
      " 6   year         70336 non-null  int64  \n",
      " 7   cluster      70336 non-null  int64  \n",
      " 8   neg          70336 non-null  float64\n",
      " 9   neu          70336 non-null  float64\n",
      " 10  pos          70336 non-null  float64\n",
      " 11  compound     70336 non-null  float64\n",
      "dtypes: float64(4), int64(3), object(5)\n",
      "memory usage: 6.4+ MB\n",
      "None\n"
     ]
    }
   ],
   "source": [
    "df.drop(['web_url', 'time', 'day', 'month'], axis=1, inplace=True)\n",
    "\n",
    "df.to_csv(\"final_data.csv\")\n",
    "\n",
    "new_df = pd.read_csv(\"final_data.csv\")\n",
    "\n",
    "print(new_df.info())"
   ]
  },
  {
   "cell_type": "code",
   "execution_count": 22,
   "id": "d211cf20",
   "metadata": {},
   "outputs": [
    {
     "name": "stdout",
     "output_type": "stream",
     "text": [
      "Unnamed: 0      0\n",
      "date            0\n",
      "headline        2\n",
      "content        14\n",
      "category        0\n",
      "day_of_week     0\n",
      "year            0\n",
      "cluster         0\n",
      "neg             0\n",
      "neu             0\n",
      "pos             0\n",
      "compound        0\n",
      "dtype: int64\n"
     ]
    }
   ],
   "source": [
    "print(new_df.isnull().sum())"
   ]
  },
  {
   "cell_type": "code",
   "execution_count": 23,
   "id": "0eb30447",
   "metadata": {},
   "outputs": [],
   "source": [
    "file_size = os.path.getsize('final_data.csv')"
   ]
  },
  {
   "cell_type": "code",
   "execution_count": 24,
   "id": "5e67c8fe",
   "metadata": {},
   "outputs": [
    {
     "name": "stdout",
     "output_type": "stream",
     "text": [
      "The size of the CSV file is: 24.60 MB\n"
     ]
    }
   ],
   "source": [
    "if file_size < 1024:\n",
    "    print(f\"The size of the CSV file is: {file_size} bytes\")\n",
    "elif file_size < 1024 ** 2:\n",
    "    print(f\"The size of the CSV file is: {file_size / 1024:.2f} KB\")\n",
    "else:\n",
    "    print(f\"The size of the CSV file is: {file_size / (1024 ** 2):.2f} MB\")"
   ]
  },
  {
   "cell_type": "code",
   "execution_count": 15,
   "id": "b6aca002",
   "metadata": {},
   "outputs": [],
   "source": [
    "#AWS Model Upload to DB\n",
    "# Import required packages\n",
    "import pandas as pd\n",
    "import json\n",
    "import sqlalchemy"
   ]
  },
  {
   "cell_type": "code",
   "execution_count": 16,
   "id": "9f971124",
   "metadata": {},
   "outputs": [],
   "source": [
    "# Load secrets from secrets.json\n",
    "with open('secrets.json') as f:\n",
    "    secrets = json.load(f)"
   ]
  },
  {
   "cell_type": "code",
   "execution_count": 17,
   "id": "3e857faa",
   "metadata": {},
   "outputs": [],
   "source": [
    "# PostgreSQL DB Connection Parameters\n",
    "host = \"mypostgresdb.cze6w8e28cpt.ap-south-1.rds.amazonaws.com\"\n",
    "port = 5432\n",
    "username = \"postgres\"\n",
    "password = secrets['db_password']\n",
    "db =\"postgres\""
   ]
  },
  {
   "cell_type": "code",
   "execution_count": 18,
   "id": "cc88b29e",
   "metadata": {},
   "outputs": [],
   "source": [
    "engine_string = f'postgresql://{username}:{password}@{host}:{port}/{db}'"
   ]
  },
  {
   "cell_type": "code",
   "execution_count": 19,
   "id": "65a2a39d",
   "metadata": {},
   "outputs": [],
   "source": [
    "engine = sqlalchemy.create_engine(engine_string)"
   ]
  },
  {
   "cell_type": "code",
   "execution_count": 20,
   "id": "fde0f69a",
   "metadata": {},
   "outputs": [],
   "source": [
    "df = pd.read_csv(\"final_data.csv\")"
   ]
  },
  {
   "cell_type": "code",
   "execution_count": null,
   "id": "76bc1731",
   "metadata": {},
   "outputs": [
    {
     "data": {
      "text/plain": [
       "336"
      ]
     },
     "execution_count": 21,
     "metadata": {},
     "output_type": "execute_result"
    }
   ],
   "source": [
    "#create postgresql db table in AWS\n",
    "df.to_sql(\"final_data\", con=engine, if_exists='replace')"
   ]
  }
 ],
 "metadata": {
  "kernelspec": {
   "display_name": ".venv",
   "language": "python",
   "name": "python3"
  },
  "language_info": {
   "codemirror_mode": {
    "name": "ipython",
    "version": 3
   },
   "file_extension": ".py",
   "mimetype": "text/x-python",
   "name": "python",
   "nbconvert_exporter": "python",
   "pygments_lexer": "ipython3",
   "version": "3.12.8"
  }
 },
 "nbformat": 4,
 "nbformat_minor": 5
}
